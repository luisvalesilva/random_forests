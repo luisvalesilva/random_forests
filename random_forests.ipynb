{
 "cells": [
  {
   "cell_type": "markdown",
   "metadata": {},
   "source": [
    "<a id='top'></a>\n",
    "# Random Forests\n",
    "\n",
    "### May 2017\n",
    "\n",
    "<br>\n",
    "This is a study for a blog post to appear on [Data Simple](http://luisvalesilva.com/datasimple). It will focus on the theory and scikit-learn implementation of the **Random Forest** machine learning (ML) algorithm.\n",
    "<br><br>\n",
    "\n",
    "## Contents\n",
    "\n",
    "1. [Introduction](#intro)\n",
    "1. [Decision Trees](#trees)\n",
    "1. [Ensemble Learning](#ensemble)\n",
    "\n",
    "<br><br>\n",
    "\n",
    "<a id='intro'></a>\n",
    "# 1. Introduction\n",
    "\n",
    "Random Forests are a popular example of an Ensemble Learning method. Ensemble Learning consists on combining multiple ML models in order to achieve higher predictive performance than could be obtained using either of the individual models alone.\n",
    "\n",
    "Ensemble Learning methods work best when the models are as diverse as possible, providing complementary predictive performance. One way to achieve this is to combine models built using different ML algorithms, to try to combine models making errors on different training set instances. An alternative approach is to use the same ML algorithm, but to train each model on a different random subset of the training data set. This is the appproach taken by Random Forests: they combine multiple Decision Tree models trained on different subsets of the training data.\n",
    "\n",
    "The next section provides an overview of the Decision Tree ML algorithm, which is at the core of Random Forests. More on Ensemble Learning theory later. Before moving on, let's generate some toy data using `scikit-learn`'s `make_blobs` function. Let's get a two-dimensional data set with 300 observations evenly split between three classes (let's call them \"Yellow\", \"Blue\", and \"Red\"). I'll use a high-enough standard deviation (parameter `cluster_std`) to blur out the class boundaries a little bit."
   ]
  },
  {
   "cell_type": "code",
   "execution_count": 16,
   "metadata": {
    "collapsed": false
   },
   "outputs": [
    {
     "data": {
      "image/png": "[encoded data removed]",
      "text/plain": [
       "<matplotlib.figure.Figure at 0x105f1cc88>"
      ]
     },
     "metadata": {},
     "output_type": "display_data"
    },
    {
     "data": {
      "text/plain": [
       "<matplotlib.figure.Figure at 0x107cff5c0>"
      ]
     },
     "metadata": {},
     "output_type": "display_data"
    }
   ],
   "source": [
    "%matplotlib inline\n",
    "import matplotlib.pyplot as plt\n",
    "\n",
    "from sklearn.datasets import make_blobs\n",
    "X, y = make_blobs(n_samples=300, n_features=2, centers=3,\n",
    "                  cluster_std=4, random_state=42)\n",
    "\n",
    "plt.plot(X[:, 0][y==0], X[:, 1][y==0], \"yo\", marker='.')\n",
    "plt.plot(X[:, 0][y==1], X[:, 1][y==1], \"bs\", marker='.')\n",
    "plt.plot(X[:, 0][y==2], X[:, 1][y==2], \"rd\", marker='.')\n",
    "plt.xlabel(r\"$x_1$\", fontsize=20)\n",
    "plt.ylabel(r\"$x_2$\", fontsize=20, rotation=0)\n",
    "plt.title(\"Toy data for classification\\n\", fontsize=16)\n",
    "\n",
    "plt.figure(figsize=(4, 3))\n",
    "\n",
    "#plt.show()"
   ]
  },
  {
   "cell_type": "markdown",
   "metadata": {},
   "source": [
    "<a id='trees'></a>\n",
    "# 2. Decision Trees\n",
    "\n",
    "Decision Trees are powerful ML algorithms capable of fitting complex data sets. The [Wikipedia page](https://en.wikipedia.org/wiki/Decision_tree_learning) on Decision Tree Learning presents the following definition:\n",
    "\n",
    "> A decision tree is a flow-chart-like structure, where each internal (non-leaf) node denotes a test on an attribute, each branch represents the outcome of a test, and each leaf (or terminal) node holds a class label. The topmost node in a tree is the root node.\n",
    "\n",
    "In order to classify a data instance, all you need to do is traverse the flow chart, answering all the tests, until you reach a leaf node. Each test will be a question on a specific feature in the data. The class labeling of the leaf node the new instance ends up in is the predicted class.\n",
    "\n",
    "Let's grow a Decision Tree on our data to take a closer look at how this works in practice. `scikit-learn` makes this ridiculously easy, of course."
   ]
  },
  {
   "cell_type": "code",
   "execution_count": 25,
   "metadata": {
    "collapsed": false
   },
   "outputs": [
    {
     "data": {
      "text/plain": [
       "DecisionTreeClassifier(class_weight=None, criterion='gini', max_depth=2,\n",
       "            max_features=None, max_leaf_nodes=None,\n",
       "            min_impurity_split=1e-07, min_samples_leaf=1,\n",
       "            min_samples_split=2, min_weight_fraction_leaf=0.0,\n",
       "            presort=False, random_state=42, splitter='best')"
      ]
     },
     "execution_count": 25,
     "metadata": {},
     "output_type": "execute_result"
    }
   ],
   "source": [
    "from sklearn.tree import DecisionTreeClassifier\n",
    "\n",
    "# Instantiate the classifier class\n",
    "tree_clf = DecisionTreeClassifier(max_depth=2, random_state=42)\n",
    "\n",
    "# Grow a Decision Tree\n",
    "tree_clf.fit(X, y)"
   ]
  },
  {
   "cell_type": "markdown",
   "metadata": {},
   "source": [
    "We have grown a tree on our 2-D data set. Classifying new examples would be simple:"
   ]
  },
  {
   "cell_type": "code",
   "execution_count": 27,
   "metadata": {
    "collapsed": false
   },
   "outputs": [
    {
     "name": "stdout",
     "output_type": "stream",
     "text": [
      "Predicted class for point [[-5 10]]: Yellow\n",
      "Predicted class for point [[10  5]]: Blue\n",
      "Predicted class for point [[-10 -10]]: Red\n"
     ]
    }
   ],
   "source": [
    "import numpy as np\n",
    "\n",
    "def predict_class(data_point, classes=['Yellow', 'Blue', 'Red']):\n",
    "    # Convert to appropriate numpy array\n",
    "    data_point = np.array(data_point).reshape(1, -1)\n",
    "    \n",
    "    # Classify\n",
    "    result = tree_clf.predict(data_point)\n",
    "    \n",
    "    # Print output\n",
    "    print('Predicted class for point {}: {}'.format(data_point,\n",
    "                                                    classes[np.asscalar(result)]))\n",
    "    \n",
    "predict_class([-5, 10])\n",
    "predict_class([10, 5])\n",
    "predict_class([-10, -10])"
   ]
  },
  {
   "cell_type": "markdown",
   "metadata": {
    "collapsed": true
   },
   "source": [
    "We can visualize the Decision Tree model to inspect its structure and see how it makes decisions. We can use the `graphviz` package. We start by generating a graph definition as a `.dot` file, using the `export_graphviz` method. We can then convert the `.dot` file to a `.png` image file."
   ]
  },
  {
   "cell_type": "code",
   "execution_count": 10,
   "metadata": {
    "collapsed": false
   },
   "outputs": [],
   "source": [
    "from sklearn.tree import export_graphviz\n",
    "\n",
    "export_graphviz(tree_clf, out_file='tree.dot',\n",
    "                feature_names=['x1', 'x2'],\n",
    "                class_names=['Yellow', 'Blue', 'Red'],\n",
    "                rounded=True, filled=True)"
   ]
  },
  {
   "cell_type": "markdown",
   "metadata": {},
   "source": [
    "Generate `.png` image using `graphviz` package:\n",
    "\n",
    "```\n",
    "$ dot -Tpng tree.dot -o tree.png\n",
    "```\n",
    "\n",
    "Here's the tree visualization.\n",
    "\n",
    "![Tree](tree.png)"
   ]
  },
  {
   "cell_type": "markdown",
   "metadata": {},
   "source": [
    "We can now see the exact way the model predicts new instance classes. It starts off at the root node, with all 300 training examples split evenly between the three classes, and asks whether feature $x_2$ value is lower than or equal to $-1.3707$. It splits the data in two groups according to the answer and then goes on to ask another question in each of the two following internal nodes. These, in turn, split the data between two groups each. Since we set argument `max_depth=2`, the tree stops here, with four leaf nodes providing the final prediction.\n",
    "\n",
    "Let's use one of the instances predicted above as an example: $x_1 = -5, x_2 = 10$. The answer to the root node question is `False`, since $x_2 > -1.3707$. The answer to the next question is `True`, since $x_1 <= 0.8566$. This brings us to the leaf node predicting class \"Yellow\".\n",
    "\n",
    "This structure allows Decision Trees to estimate class probabilities by simply computing the ratio of training instances belonging to each class in the leaf node. For example, for our predicted instance above this tree estimates it belongs to class \"Yellow\" with 84.6% probaility (88/104; the predicted class), class \"Blue\" with 8.7% probability (9/104) and class \"Red\" with 6.7% probability (7/104).\n",
    "\n",
    "These rules define axis-parallel decision boundaries, dividing the feature space into a series rectangles, each of which predicts one of the classes."
   ]
  },
  {
   "cell_type": "code",
   "execution_count": 61,
   "metadata": {
    "collapsed": false
   },
   "outputs": [
    {
     "data": {
      "image/png": "[encoded data removed]",
      "text/plain": [
       "<matplotlib.figure.Figure at 0x108f2eba8>"
      ]
     },
     "metadata": {},
     "output_type": "display_data"
    },
    {
     "data": {
      "text/plain": [
       "<matplotlib.figure.Figure at 0x108f5b898>"
      ]
     },
     "metadata": {},
     "output_type": "display_data"
    }
   ],
   "source": [
    "from matplotlib.colors import ListedColormap\n",
    "\n",
    "def compute_decision_boundaries(clf, X, y, axes):\n",
    "    x1s = np.linspace(axes[0], axes[1], 300)\n",
    "    x2s = np.linspace(axes[2], axes[3], 300)\n",
    "    x1, x2 = np.meshgrid(x1s, x2s)\n",
    "    X_new = np.c_[x1.ravel(), x2.ravel()]\n",
    "    y_pred = clf.predict(X_new).reshape(x1.shape)\n",
    "    \n",
    "    return x1, x2, y_pred\n",
    "\n",
    "def plot_feature_space(clf, X, y, axes):\n",
    "    x1, x2, y_pred = compute_decision_boundaries(clf, X, y, axes)\n",
    "    \n",
    "    custom_cmap = ListedColormap(['y','b','r'])\n",
    "    plt.contourf(x1, x2, y_pred, cmap=custom_cmap, alpha=0.1, linewidth=1)\n",
    "\n",
    "    plt.plot(X[:, 0][y==0], X[:, 1][y==0], \"yo\", marker='.')\n",
    "    plt.plot(X[:, 0][y==1], X[:, 1][y==1], \"bs\", marker='.')\n",
    "    plt.plot(X[:, 0][y==2], X[:, 1][y==2], \"rd\", marker='.')\n",
    "    plt.axis(axes)\n",
    "    plt.xlabel(r\"$x_1$\", fontsize=20)\n",
    "    plt.ylabel(r\"$x_2$\", fontsize=20, rotation=0)\n",
    "    plt.figure(figsize=(8, 4))\n",
    "    \n",
    "\n",
    "plot_feature_space(tree_clf, X, y, axes=[-16, 15, -20, 20])\n",
    "\n",
    "#plt.show()"
   ]
  },
  {
   "cell_type": "markdown",
   "metadata": {},
   "source": [
    "So this is how a Decision Tree model makes predictions. But how is `scikit-learn` actually growing the tree? There are alternatives, but `scikit-learn` uses the Classification And Regression Tree (CART) algorithm. CART works by splitting the training set in two subsets using a single feature $k$ and a threshold $t_k$, such that the split produces the purest subsets (weighted by their size). It then splits the subsets in the same exact way, then the sub-subsets and so on, recursively, until it cannot find a split that will reduce class impurity of the data.\n",
    "\n",
    "The CART algorithm minimizes the following cost function at each split:\n",
    "\n",
    "$$ J(k, t_k) = \\dfrac{m_{left}}{m}I_{left} + \\dfrac{m_{right}}{m}I_{right} $$\n",
    "\n",
    "$$\n",
    "with\n",
    "\\begin{cases}\n",
    "  I_{left/right} \\text{ impurity of the left/right subset,}\\\\\n",
    "  m_{left/right} \\text{ number of instances in the left/right subset.}\n",
    "\\end{cases}\n",
    "$$\n",
    "\n",
    "So what is the impurity $I$ measure?\n",
    "\n",
    "\n",
    "An alternative is to use the \"Information gain\" measure, based on the concept of entropy from information theory."
   ]
  },
  {
   "cell_type": "markdown",
   "metadata": {},
   "source": [
    "<a id='ensemble'></a>\n",
    "# 3. Ensemble Learning"
   ]
  },
  {
   "cell_type": "markdown",
   "metadata": {},
   "source": [
    "[Back to top](#top)"
   ]
  }
 ],
 "metadata": {
  "anaconda-cloud": {},
  "kernelspec": {
   "display_name": "Python 3",
   "language": "python",
   "name": "python3"
  },
  "language_info": {
   "codemirror_mode": {
    "name": "ipython",
    "version": 3
   },
   "file_extension": ".py",
   "mimetype": "text/x-python",
   "name": "python",
   "nbconvert_exporter": "python",
   "pygments_lexer": "ipython3",
   "version": "3.5.1"
  }
 },
 "nbformat": 4,
 "nbformat_minor": 1
}
