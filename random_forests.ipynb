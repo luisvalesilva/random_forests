{
 "cells": [
  {
   "cell_type": "markdown",
   "metadata": {},
   "source": [
    "<a id='top'></a>\n",
    "# Random Forests\n",
    "\n",
    "### May 2017\n",
    "\n",
    "<br>\n",
    "This is a study for a blog post to appear on [Data Simple](http://luisvalesilva.com/datasimple). It will focus on the theory and scikit-learn implementation of the **Random Forest** machine learning (ML) algorithm.\n",
    "<br><br>\n",
    "\n",
    "## Contents\n",
    "\n",
    "1. [Introduction](#intro)\n",
    "1. [Decision Trees](#trees)\n",
    "1. [Ensemble Learning](#ensemble)\n",
    "\n",
    "<br><br>\n",
    "\n",
    "<a id='intro'></a>\n",
    "# 1. Introduction\n",
    "\n",
    "Random Forests are a popular example of an Ensemble Learning method. Ensemble Learning consists on combining multiple ML models in order to achieve higher predictive performance than could be obtained using either of the individual models alone.\n",
    "\n",
    "Ensemble Learning methods work best when the models are as diverse as possible, providing complementary predictive performance. One way to achieve this is to combine models built using different ML algorithms, to try to combine models making errors on different training set instances. An alternative approach is to use the same ML algorithm, but to train each model on a different random subset of the training data set. This is the appproach taken by Random Forests: they combine multiple Decision Tree models trained on different subsets of the training data.\n",
    "\n",
    "The next section provides an overview of the Decision Tree ML algorithm, which is at the core of Random Forests. More on Ensemble Learning theory later. Before moving on, let's generate some toy data using `scikit-learn`'s `make_blobs` function. Let's get a two-dimensional data set with 300 observations evenly split between three classes (let's call them \"Yellow\", \"Blue\", and \"Red\")."
   ]
  },
  {
   "cell_type": "code",
   "execution_count": 9,
   "metadata": {
    "collapsed": false
   },
   "outputs": [
    {
     "data": {
      "image/png": "[encoded data removed]",
      "text/plain": [
       "<matplotlib.figure.Figure at 0x1010b8b00>"
      ]
     },
     "metadata": {},
     "output_type": "display_data"
    },
    {
     "data": {
      "text/plain": [
       "<matplotlib.figure.Figure at 0x11487ad30>"
      ]
     },
     "metadata": {},
     "output_type": "display_data"
    }
   ],
   "source": [
    "%matplotlib inline\n",
    "import matplotlib.pyplot as plt\n",
    "\n",
    "from sklearn.datasets import make_blobs\n",
    "X, y = make_blobs(n_samples=300, n_features=2, centers=3,\n",
    "                  cluster_std=4, random_state=42)\n",
    "\n",
    "plt.plot(X[:, 0][y==0], X[:, 1][y==0], \"yo\", marker='.')\n",
    "plt.plot(X[:, 0][y==1], X[:, 1][y==1], \"bs\", marker='.')\n",
    "plt.plot(X[:, 0][y==2], X[:, 1][y==2], \"rd\", marker='.')\n",
    "plt.xlabel(r\"$x_1$\", fontsize=20)\n",
    "plt.ylabel(r\"$x_2$\", fontsize=20, rotation=0)\n",
    "plt.title(\"Toy data for classification\\n\", fontsize=16)\n",
    "\n",
    "plt.figure(figsize=(4, 3))\n",
    "\n",
    "plt.show()"
   ]
  },
  {
   "cell_type": "markdown",
   "metadata": {},
   "source": [
    "<a id='trees'></a>\n",
    "# 2. Decision Trees\n",
    "\n",
    "Decision Trees are powerful ML algorithms capable of fitting complex data sets. The [Wikipedia page](https://en.wikipedia.org/wiki/Decision_tree_learning) on Decision Tree Learning presents the following definition:\n",
    "\n",
    "> A decision tree is a flow-chart-like structure, where each internal (non-leaf) node denotes a test on an attribute, each branch represents the outcome of a test, and each leaf (or terminal) node holds a class label. The topmost node in a tree is the root node.\n",
    "\n",
    "In order to classify a data instance, all you need to do is traverse the flow chart, answering all the tests, until you reach a leaf node. Each test will be a question on a specific feature in the data. The class labeling in the leaf node the new instance ends up in is the predicted class.\n",
    "\n",
    "Let's grow a Decision Tree on our data set to take a closer look at how this works in practice. `scikit-learn` makes this ridiculously easy, of course."
   ]
  },
  {
   "cell_type": "code",
   "execution_count": 5,
   "metadata": {
    "collapsed": false
   },
   "outputs": [
    {
     "data": {
      "text/plain": [
       "DecisionTreeClassifier(class_weight=None, criterion='gini', max_depth=2,\n",
       "            max_features=None, max_leaf_nodes=None,\n",
       "            min_impurity_split=1e-07, min_samples_leaf=1,\n",
       "            min_samples_split=2, min_weight_fraction_leaf=0.0,\n",
       "            presort=False, random_state=42, splitter='best')"
      ]
     },
     "execution_count": 5,
     "metadata": {},
     "output_type": "execute_result"
    }
   ],
   "source": [
    "from sklearn.tree import DecisionTreeClassifier\n",
    "\n",
    "# Instantiate the classifier class\n",
    "tree_clf = DecisionTreeClassifier(max_depth=2, random_state=42)\n",
    "\n",
    "# Grow a Decision Tree\n",
    "tree_clf.fit(X, y)\n"
   ]
  },
  {
   "cell_type": "markdown",
   "metadata": {},
   "source": [
    "We have grown a tree on our 2-D data set. Classifying new examples would be simple:"
   ]
  },
  {
   "cell_type": "code",
   "execution_count": 52,
   "metadata": {
    "collapsed": false
   },
   "outputs": [
    {
     "name": "stdout",
     "output_type": "stream",
     "text": [
      "Predicted class for point [[-5 10]]: Yellow\n",
      "Predicted class for point [[10 10]]: Blue\n",
      "Predicted class for point [[ -5 -10]]: Red\n"
     ]
    }
   ],
   "source": [
    "def predict_class(data_point, classes=['Yellow', 'Blue', 'Red']):\n",
    "    # Convert to appropriate numpy array\n",
    "    data_point = np.array(data_point).reshape(1, -1)\n",
    "    \n",
    "    # Classify\n",
    "    result = tree_clf.predict(data_point)\n",
    "    \n",
    "    # Print output\n",
    "    print('Predicted class for point {}: {}'.format(data_point,\n",
    "                                                    classes[np.asscalar(result)]))\n",
    "    \n",
    "predict_class([-5, 10])\n",
    "predict_class([10, 10])\n",
    "predict_class([-5, -10])"
   ]
  },
  {
   "cell_type": "code",
   "execution_count": null,
   "metadata": {
    "collapsed": true
   },
   "outputs": [],
   "source": []
  },
  {
   "cell_type": "code",
   "execution_count": null,
   "metadata": {
    "collapsed": true
   },
   "outputs": [],
   "source": []
  },
  {
   "cell_type": "code",
   "execution_count": null,
   "metadata": {
    "collapsed": true
   },
   "outputs": [],
   "source": []
  },
  {
   "cell_type": "code",
   "execution_count": 3,
   "metadata": {
    "collapsed": false
   },
   "outputs": [
    {
     "name": "stderr",
     "output_type": "stream",
     "text": [
      "/Users/luis/anaconda3/lib/python3.5/site-packages/sklearn/tree/export.py:386: DeprecationWarning: out_file can be set to None starting from 0.18. This will be the default in 0.20.\n",
      "  DeprecationWarning)\n"
     ]
    }
   ],
   "source": [
    "from sklearn.tree import export_graphviz\n",
    "\n",
    "export_graphviz(tree_clf,\n",
    "                feature_names=['x1', 'x2'],\n",
    "                class_names=['Yellow', 'Blue', 'Red'],\n",
    "                rounded=True, filled=True)"
   ]
  },
  {
   "cell_type": "markdown",
   "metadata": {},
   "source": [
    "Generate `.png` image using `graphviz` package:\n",
    "\n",
    "```\n",
    "$ dot -Tpng tree.dot -o tree.png\n",
    "```\n",
    "\n",
    "Here's the tree visualization.\n",
    "\n",
    "![Tree](tree.png)"
   ]
  },
  {
   "cell_type": "code",
   "execution_count": 4,
   "metadata": {
    "collapsed": false
   },
   "outputs": [
    {
     "data": {
      "image/png": "[encoded data removed]",
      "text/plain": [
       "<matplotlib.figure.Figure at 0x11474e128>"
      ]
     },
     "metadata": {},
     "output_type": "display_data"
    },
    {
     "data": {
      "text/plain": [
       "<matplotlib.figure.Figure at 0x1148629e8>"
      ]
     },
     "metadata": {},
     "output_type": "display_data"
    }
   ],
   "source": [
    "import numpy as np\n",
    "from matplotlib.colors import ListedColormap\n",
    "\n",
    "def plot_decision_boundary(clf, X, y, axes=[-16, 15, -20, 20]):\n",
    "    x1s = np.linspace(axes[0], axes[1], 100)\n",
    "    x2s = np.linspace(axes[2], axes[3], 100)\n",
    "    x1, x2 = np.meshgrid(x1s, x2s)\n",
    "    X_new = np.c_[x1.ravel(), x2.ravel()]\n",
    "    y_pred = clf.predict(X_new).reshape(x1.shape)\n",
    "    custom_cmap = ListedColormap(['y','b','r'])\n",
    "    plt.contourf(x1, x2, y_pred, alpha=0.1, cmap=custom_cmap, linewidth=1)\n",
    "\n",
    "    custom_cmap2 = ListedColormap(['#7d7d58','#4c4c7f','#507d50'])\n",
    "    plt.contour(x1, x2, y_pred, cmap=custom_cmap2, alpha=0.1)\n",
    "    \n",
    "    plt.plot(X[:, 0][y==0], X[:, 1][y==0], \"yo\", marker='.')\n",
    "    plt.plot(X[:, 0][y==1], X[:, 1][y==1], \"bs\", marker='.')\n",
    "    plt.plot(X[:, 0][y==2], X[:, 1][y==2], \"rd\", marker='.')\n",
    "    plt.axis(axes)\n",
    "    plt.xlabel(r\"$x_1$\", fontsize=20)\n",
    "    plt.ylabel(r\"$x_2$\", fontsize=20, rotation=0)\n",
    "    plt.figure(figsize=(8, 4))\n",
    "    \n",
    "plot_decision_boundary(tree_clf, X, y)\n",
    "\n",
    "\n",
    "plt.show()"
   ]
  },
  {
   "cell_type": "markdown",
   "metadata": {},
   "source": [
    "<a id='ensemble'></a>\n",
    "# 3. Ensemble Learning"
   ]
  },
  {
   "cell_type": "markdown",
   "metadata": {},
   "source": [
    "[Back to top](#top)"
   ]
  }
 ],
 "metadata": {
  "anaconda-cloud": {},
  "kernelspec": {
   "display_name": "Python [default]",
   "language": "python",
   "name": "python3"
  },
  "language_info": {
   "codemirror_mode": {
    "name": "ipython",
    "version": 3
   },
   "file_extension": ".py",
   "mimetype": "text/x-python",
   "name": "python",
   "nbconvert_exporter": "python",
   "pygments_lexer": "ipython3",
   "version": "3.5.2"
  }
 },
 "nbformat": 4,
 "nbformat_minor": 1
}
